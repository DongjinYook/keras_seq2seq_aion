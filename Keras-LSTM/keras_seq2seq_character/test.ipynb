{
 "cells": [
  {
   "cell_type": "code",
   "execution_count": 1,
   "metadata": {},
   "outputs": [],
   "source": [
    "import random"
   ]
  },
  {
   "cell_type": "code",
   "execution_count": 8,
   "metadata": {},
   "outputs": [
    {
     "name": "stdout",
     "output_type": "stream",
     "text": [
      "96272\n",
      "86644.8\n"
     ]
    }
   ],
   "source": [
    "input_matrix = []\n",
    "output_matrix= []\n",
    "with open(\"data/input_seq.txt\", \"r\", encoding=\"utf-8\") as f:\n",
    "    reader = f.readlines()\n",
    "    for line in reader:\n",
    "        input_matrix.append(line[:-1])\n",
    "        \n",
    "with open(\"data/output_seq.txt\", \"r\", encoding=\"utf-8\") as f:\n",
    "    reader = f.readlines()\n",
    "    for line in reader:\n",
    "        output_matrix.append(line[:-1])\n",
    "        \n",
    "k = len(input_matrix)*0.9\n",
    "print(len(input_matrix))\n",
    "print(k)\n",
    "with open(\"data/aion_train_v.txt\", \"w\", encoding='utf-8') as w:\n",
    "    for i in input_matrix[0:86644]:\n",
    "        text = str(i).strip()\n",
    "        w.write(text + '\\n')\n",
    "\n",
    "with open(\"data/aion_test_v.txt\", \"w\", encoding='utf-8') as w:\n",
    "    for i in input_matrix[86644:96272]:\n",
    "        text = str(i).strip()\n",
    "        w.write(text + '\\n')\n",
    "\n",
    "with open(\"data/aion_train_t.txt\", \"w\", encoding=\"utf-8\") as w:\n",
    "    for i in output_matrix[0:86644]:\n",
    "        text = str(i).strip()\n",
    "        w.write(text + '.' + '\\n')\n",
    "        \n",
    "with open(\"data/aion_test_t.txt\", \"w\", encoding=\"utf-8\") as w:\n",
    "    for i in output_matrix[86644:96272]:\n",
    "        text = str(i).strip()\n",
    "        w.write(text + '.' + '\\n')"
   ]
  },
  {
   "cell_type": "code",
   "execution_count": 37,
   "metadata": {},
   "outputs": [
    {
     "name": "stdout",
     "output_type": "stream",
     "text": [
      "['cubic', '(', '궁금 ddd', ')']\n",
      "cubic(궁금 ddd)\n"
     ]
    }
   ],
   "source": []
  },
  {
   "cell_type": "code",
   "execution_count": null,
   "metadata": {},
   "outputs": [],
   "source": []
  }
 ],
 "metadata": {
  "kernelspec": {
   "display_name": "Python [conda env:my_1.8]",
   "language": "python",
   "name": "conda-env-my_1.8-py"
  },
  "language_info": {
   "codemirror_mode": {
    "name": "ipython",
    "version": 3
   },
   "file_extension": ".py",
   "mimetype": "text/x-python",
   "name": "python",
   "nbconvert_exporter": "python",
   "pygments_lexer": "ipython3",
   "version": "3.5.5"
  }
 },
 "nbformat": 4,
 "nbformat_minor": 2
}
