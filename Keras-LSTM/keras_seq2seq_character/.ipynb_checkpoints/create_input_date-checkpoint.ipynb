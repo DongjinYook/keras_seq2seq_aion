{
 "cells": [
  {
   "cell_type": "markdown",
   "metadata": {},
   "source": [
    "## Input Data 생성"
   ]
  },
  {
   "cell_type": "code",
   "execution_count": 1,
   "metadata": {},
   "outputs": [],
   "source": [
    "import random"
   ]
  },
  {
   "cell_type": "code",
   "execution_count": 2,
   "metadata": {},
   "outputs": [],
   "source": [
    "basic_matrix = []\n",
    "input_matrix = []\n",
    "output_matrix = []\n",
    "\n",
    "random_input_matrix = []\n",
    "random_output_matrix = []\n",
    "\n",
    "arg_list1 = ['인테르디카 요새', '세네모네아의 야영지', '파세르타 마을', '인테르디카 결계탑', '키샤르 감시기지', \n",
    "             '챈가룽 야영지', '유프로시네 마을', '토벌대 전진기지']\n",
    "arg_list2 = ['작은 투명', '투명']\n",
    "arg_list3 = ['백곰', '스켈레톤', '핑크 호랑이', '해적', '레파르 혁명단', '그레이브나이트', '브라우니', '백호', \n",
    "             '호랑이', '옐로우 펭귄', '퍼플 펭귄', '레드 펭귄', '오렌지 펭귄', '블랙 펭귄', '그린 펭귄', '비룡', \n",
    "             '상냥한 슈고', '초강력 팬더', '승리의 비룡', '슈고', '슈퍼 슈고', '루나 파견대', '광대', '스켈레톤 전사', \n",
    "             '도베르만', '깡통', '치와와', '포메라니안', '라이칸', '실험체', '크랄', '악동토끼', '불량토끼', '황금 깡통', \n",
    "             '몽실이', '사막 여우', '티아마트 용신도', '타르하 크랄', '검은갈기 라이칸', '고양이', '포포쿠', '아그우드', \n",
    "             '티아마트 드라칸', '브리트라 드라칸', '에레슈키갈 드라칸', '픽셀', '빛의 수호단', '어둠의 수호단', '망각의 하수인', \n",
    "             '에레슈키갈의 사도', '브리트라의 사도', '티아마트의 사도', '하메룬', '라스베르그', '크로메데', '타하바타', \n",
    "             '테그라크', '헤라나스', '쉬타', '웨다', '프리기다', '그렌달', '카이시넬']\n",
    "arg_list4 = ['관심', '추천', '지역', '레벨', '최근']\n",
    "arg_list5 = ['전체', '일반', '전투', '파티']\n",
    "arg_list6 = ['기능', '징표', '채집', '감정 표현', '제작']\n",
    "arg_list7 = ['에레슈키갈', '생명', '정신', '축복', '광기', '지혜', '보호', '수호', '의지', '이성', '기민', '명예', '맹세', '침묵']\n",
    "\n",
    "target_word = ['거점 이동', '지도 설정', '변신', '퀘스트', '채팅', '동작', '큐빅']"
   ]
  },
  {
   "cell_type": "code",
   "execution_count": 3,
   "metadata": {},
   "outputs": [],
   "source": [
    "with open(\"Data/original/tf_data_form.txt\", \"r\", encoding=\"utf-8\") as f:\n",
    "    reader = f.readlines()\n",
    "    for line in reader:\n",
    "        basic_matrix.append(line[:-1])"
   ]
  },
  {
   "cell_type": "markdown",
   "metadata": {},
   "source": [
    "## Input_data.txt 파일 생성"
   ]
  },
  {
   "cell_type": "code",
   "execution_count": 4,
   "metadata": {},
   "outputs": [],
   "source": [
    "with open(\"Data/original/input_data.txt\", \"w\", encoding=\"utf-8\") as w:\n",
    "    for i in target_word:\n",
    "        for line in basic_matrix:\n",
    "            if i == \"거점 이동\":\n",
    "                for arg in arg_list1:\n",
    "                    text = str(line)\n",
    "                    input_text = text.replace('강화', arg + \" \" + i)\n",
    "                    w.write(input_text + '\\n')\n",
    "            \n",
    "            elif i == \"지도 설정\":\n",
    "                for arg in arg_list2:\n",
    "                    text = str(line)\n",
    "                    input_text = text.replace('강화', arg + \" \" + i)\n",
    "                    w.write(input_text + '\\n')\n",
    "                    \n",
    "            elif i == \"변신\":\n",
    "                for arg in arg_list3:\n",
    "                    text = str(line)\n",
    "                    input_text = text.replace('강화', arg + \" \" + i)\n",
    "                    w.write(input_text + '\\n')\n",
    "                    \n",
    "            elif i == \"퀘스트\":\n",
    "                for arg in arg_list4:\n",
    "                    text = str(line)\n",
    "                    input_text = text.replace('강화', arg + \" \" + i)\n",
    "                    w.write(input_text + '\\n')\n",
    "                    \n",
    "            elif i == \"채팅\":\n",
    "                for arg in arg_list5:\n",
    "                    text = str(line)\n",
    "                    input_text = text.replace('강화', arg + \" \" + i)\n",
    "                    w.write(input_text + '\\n')\n",
    "                    \n",
    "            elif i == \"동작\":\n",
    "                for arg in arg_list6:\n",
    "                    text = str(line)\n",
    "                    input_text = text.replace('강화', arg + \" \" + i)\n",
    "                    w.write(input_text + '\\n')\n",
    "                    \n",
    "            elif i == \"큐빅\":\n",
    "                for arg in arg_list7:\n",
    "                    text = str(line)\n",
    "                    input_text = text.replace('강화', arg + \" \" + i)\n",
    "                    w.write(input_text + '\\n')\n",
    "                    \n"
   ]
  },
  {
   "cell_type": "markdown",
   "metadata": {},
   "source": [
    "## Output data.txt 파일 생성"
   ]
  },
  {
   "cell_type": "code",
   "execution_count": 5,
   "metadata": {},
   "outputs": [],
   "source": [
    "with open(\"Data/original/output_data.txt\", \"w\", encoding=\"utf-8\") as w:\n",
    "    for i in target_word:\n",
    "        for line in basic_matrix:\n",
    "            if i == \"거점 이동\":\n",
    "                for arg in arg_list1:\n",
    "                    input_text = \"teleport\" + \"(\" + arg + \")\"\n",
    "                    w.write(input_text + '\\n')\n",
    "                    \n",
    "            elif i == \"지도 설정\":\n",
    "                for arg in arg_list2:\n",
    "                    input_text = \"map\" + \"(\" + arg + \")\"\n",
    "                    w.write(input_text + '\\n')\n",
    "                    \n",
    "            elif i == \"변신\":\n",
    "                for arg in arg_list3:\n",
    "                    input_text = \"transform\"+ \"(\" + arg + \")\"\n",
    "                    w.write(input_text + '\\n')\n",
    "                    \n",
    "            elif i == \"퀘스트\":\n",
    "                for arg in arg_list4:\n",
    "                    input_text = \"quest\" + \"(\" + arg + \")\"\n",
    "                    w.write(input_text + '\\n')\n",
    "                    \n",
    "            elif i == \"채팅\":\n",
    "                for arg in arg_list5:\n",
    "                    input_text = \"chat\" + \"(\" + arg + \")\"\n",
    "                    w.write(input_text + '\\n')\n",
    "                    \n",
    "            elif i == \"동작\":\n",
    "                for arg in arg_list6:\n",
    "                    input_text = \"motion\" + \"(\" + arg + \")\"\n",
    "                    w.write(input_text + '\\n')\n",
    "                    \n",
    "            elif i == \"큐빅\":\n",
    "                for arg in arg_list7:\n",
    "                    input_text = \"cubic\" + \"(\" + arg + \")\"\n",
    "                    w.write(input_text + '\\n')\n",
    "            "
   ]
  },
  {
   "cell_type": "code",
   "execution_count": 6,
   "metadata": {},
   "outputs": [],
   "source": [
    "with open(\"Data/original/input_data.txt\", \"r\", encoding=\"utf-8\") as f:\n",
    "    read = f.readlines()\n",
    "    for i in read:\n",
    "        random_input_matrix.append(i)\n",
    "        \n",
    "with open(\"Data/original/output_data.txt\", \"r\", encoding=\"utf-8\") as f:\n",
    "    read = f.readlines()\n",
    "    for i in read:\n",
    "        random_output_matrix.append(i)\n",
    "        \n",
    "combine = list(zip(random_input_matrix, random_output_matrix))\n",
    "random.shuffle(combine)\n",
    "random_input_matrix, random_output_matrix = zip(*combine)\n",
    "\n",
    "with open(\"Data/aion_train_v.txt\", \"w\", encoding='utf-8') as w:\n",
    "    for i in random_input_matrix[0:15182]:\n",
    "        text = str(i).strip()\n",
    "        w.write(text + '\\n')\n",
    "\n",
    "with open(\"Data/aion_test_v.txt\", \"w\", encoding='utf-8') as w:\n",
    "    for i in random_input_matrix[15182:18988]:\n",
    "        text = str(i).strip()\n",
    "        w.write(text + '\\n')\n",
    "\n",
    "with open(\"Data/aion_train_t.txt\", \"w\", encoding=\"utf-8\") as w:\n",
    "    for i in random_output_matrix[0:15182]:\n",
    "        text = str(i).strip()\n",
    "        w.write(text + '\\n')\n",
    "        \n",
    "with open(\"Data/aion_test_t.txt\", \"w\", encoding=\"utf-8\") as w:\n",
    "    for i in random_output_matrix[15182:18988]:\n",
    "        text = str(i).strip()\n",
    "        w.write(text + '\\n')\n",
    "        \n"
   ]
  },
  {
   "cell_type": "code",
   "execution_count": 7,
   "metadata": {},
   "outputs": [
    {
     "name": "stdout",
     "output_type": "stream",
     "text": [
      "('불량토끼 변신를 시작 하렴.\\n', '레파르 혁명단 변신를 시작 하지.\\n', '토벌대 전진기지 거점 이동를 빨리 하세.\\n', '의지 큐빅를 빨리 해줘.\\n', '오렌지 펭귄 변신 하거라.\\n', '파세르타 마을 거점 이동 하려무나.\\n', '악동토끼 변신를 하세요.\\n', '검은갈기 라이칸 변신 시작 하라고.\\n', '악동토끼 변신를 시작.\\n', '채집 동작를 하세요.\\n')\n"
     ]
    }
   ],
   "source": [
    "print(random_input_matrix[0:10])"
   ]
  },
  {
   "cell_type": "code",
   "execution_count": 8,
   "metadata": {},
   "outputs": [
    {
     "name": "stdout",
     "output_type": "stream",
     "text": [
      "('transform(불량토끼)\\n', 'transform(레파르 혁명단)\\n', 'teleport(토벌대 전진기지)\\n', 'cubic(의지)\\n', 'transform(오렌지 펭귄)\\n', 'teleport(파세르타 마을)\\n', 'transform(악동토끼)\\n', 'transform(검은갈기 라이칸)\\n', 'transform(악동토끼)\\n', 'motion(채집)\\n')\n"
     ]
    }
   ],
   "source": [
    "print(random_output_matrix[0:10])"
   ]
  },
  {
   "cell_type": "markdown",
   "metadata": {},
   "source": [
    "## input_data == output_data == 18988\n",
    "## 약 9만 문장 추가하기"
   ]
  },
  {
   "cell_type": "code",
   "execution_count": 13,
   "metadata": {},
   "outputs": [],
   "source": []
  },
  {
   "cell_type": "code",
   "execution_count": null,
   "metadata": {},
   "outputs": [],
   "source": []
  }
 ],
 "metadata": {
  "kernelspec": {
   "display_name": "Python [default]",
   "language": "python",
   "name": "python3"
  },
  "language_info": {
   "codemirror_mode": {
    "name": "ipython",
    "version": 3
   },
   "file_extension": ".py",
   "mimetype": "text/x-python",
   "name": "python",
   "nbconvert_exporter": "python",
   "pygments_lexer": "ipython3",
   "version": "3.5.5"
  }
 },
 "nbformat": 4,
 "nbformat_minor": 2
}
