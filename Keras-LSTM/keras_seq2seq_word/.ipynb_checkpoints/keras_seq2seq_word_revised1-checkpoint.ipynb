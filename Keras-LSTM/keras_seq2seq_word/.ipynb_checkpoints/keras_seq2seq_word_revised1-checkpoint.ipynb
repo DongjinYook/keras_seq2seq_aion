{
 "cells": [
  {
   "cell_type": "code",
   "execution_count": 1,
   "metadata": {},
   "outputs": [
    {
     "name": "stderr",
     "output_type": "stream",
     "text": [
      "Using TensorFlow backend.\n"
     ]
    }
   ],
   "source": [
    "from __future__ import print_function\n",
    "\n",
    "from keras.models import Model\n",
    "from keras.layers import Input, LSTM, Dense, Embedding\n",
    "from keras.utils.vis_utils import model_to_dot, plot_model\n",
    "\n",
    "import numpy as np\n",
    "import MeCab"
   ]
  },
  {
   "cell_type": "code",
   "execution_count": 2,
   "metadata": {},
   "outputs": [],
   "source": [
    "batch_size = 64  # Batch size for training\n",
    "epochs = 30  # Number of epochs to train for\n",
    "latent_dim = 256  # Latent dimensionality of the encoding space.\n",
    "\n",
    "input_data_path = 'data/aion_train_v.txt'\n",
    "target_data_path = \"data/aion_train_t.txt\"\n",
    "\n",
    "input_texts = []\n",
    "target_texts = []\n",
    "input_words = set()\n",
    "target_words = set()\n",
    "\n",
    "t = MeCab.Tagger('-d /usr/local/lib/mecab/dic/mecab-ko-dic')\n",
    "\n",
    "with open(input_data_path, \"r\", encoding=\"utf-8\") as f:\n",
    "    reader = f.readlines()\n",
    "    for sentence in reader:\n",
    "        input_texts.append(sentence)\n",
    "        words = t.parse(sentence).split()\n",
    "        for word in words:\n",
    "            if word.find(',') == -1 and word.find('EOS') == -1:\n",
    "                if word not in input_words:\n",
    "                    input_words.add(word)\n",
    "\n",
    "with open(target_data_path, \"r\", encoding=\"utf-8\") as f:\n",
    "    reader = f.readlines()\n",
    "    for sentence in reader:\n",
    "        target_text = '\\t' + sentence\n",
    "        target_texts.append(sentence)\n",
    "        words = t.parse(sentence).split()\n",
    "        for word in words:\n",
    "            if word.find(',') == -1 and word.find('EOS') == -1:\n",
    "                if word not in target_words:\n",
    "                    target_words.add(word)\n",
    "target_words.add(\"\\t\")"
   ]
  },
  {
   "cell_type": "code",
   "execution_count": 3,
   "metadata": {},
   "outputs": [],
   "source": [
    "input_words = sorted(list(input_words))\n",
    "target_words = sorted(list(target_words))\n",
    "num_encoder_tokens = len(input_words)\n",
    "num_decoder_tokens = len(target_words)\n",
    "max_encoder_seq_length = max([len(txt) for txt in input_texts])  \n",
    "max_decoder_seq_length = max([len(txt) for txt in target_texts])"
   ]
  },
  {
   "cell_type": "code",
   "execution_count": 4,
   "metadata": {},
   "outputs": [
    {
     "name": "stdout",
     "output_type": "stream",
     "text": [
      "['가', '갈기', '감시기지', '감정', '거점', '검', '검은갈기', '겠', '결계탑', '고양이', '관심', '광기', '광대', '그레이브나이트', '그렌달', '그린', '기능', '기민', '깡통', '니', '다', '도', '도베르만', '동작', '드', '드라', '라', '라스베르그', '라이칸', '레드', '레벨', '레파르', '려무나', '로', '루나', '를', '마을', '망각', '맹', '맹세', '명예', '몽실', '몽실이', '백', '백곰', '백호', '변신', '보호', '불량토끼', '브라우니', '브리트라', '블랙', '비룡', '빛', '빨리', '사도', '사막', '상냥', '상냥한', '생명', '서', '설정', '세네모네아', '세로', '세요', '수호', '수호단', '쉬', '쉬타', '슈고', '슈퍼', '스켈레톤', '승리', '시', '시작', '실험체', '십시오', '아그우드', '악동토끼', '야영지', '어', '어둠', '어서', '에', '에레슈키갈', '여우', '옐로우', '오', '오렌지', '요새', '용신', '용신도', '웨', '웨다', '유프로시네', '으로', '은', '을', '의', '의지', '이', '이동', '이성', '인테르디카', '일반', '자', '작', '적', '전사', '전진기지', '전체', '전투', '정신', '제작', '좀', '주', '줘', '지', '지금', '지도', '지역', '지혜', '집', '징표', '창', '채', '채집', '채팅', '챈가룽', '초강력', '최근', '추천', '축복', '치와와', '침묵', '카이시넬', '칸', '퀘스트', '큐빅', '크랄', '크로메데', '키샤르', '타', '타르', '타하바타', '테그라크', '토벌대', '투명', '티아마트', '파견대', '파세르타', '파티', '팬더', '퍼', '퍼플', '펭귄', '포메라니안', '포포쿠', '표현', '프리기다', '플', '픽셀', '핑크', '하', '하메룬', '하수인', '한', '합시다', '해', '해라', '헤라나스', '혁명단', '호', '호랑이', '황금']\n"
     ]
    }
   ],
   "source": [
    "print(input_words)"
   ]
  },
  {
   "cell_type": "code",
   "execution_count": 5,
   "metadata": {},
   "outputs": [
    {
     "name": "stdout",
     "output_type": "stream",
     "text": [
      "['\\t', '(', ')', '.', 'chat', 'cubic', 'map', 'motion', 'quest', 'teleport', 'transform', '감시기지', '감정', '검은갈기', '결계탑', '고양이', '관심', '광기', '광대', '그레이브나이트', '그렌달', '그린', '기능', '기민', '깡통', '도베르만', '드라', '라스베르그', '라이칸', '레드', '레벨', '레파르', '루나', '마을', '망각', '맹세', '명예', '몽실이', '백곰', '백호', '보호', '불량토끼', '브라우니', '브리트라', '블랙', '비룡', '빛', '사도', '사막', '상냥한', '생명', '세네모네아', '수호', '수호단', '쉬타', '슈고', '슈퍼', '스켈레톤', '승리', '실험체', '아그우드', '악동토끼', '야영지', '어둠', '에레슈키갈', '여우', '옐로우', '오렌지', '요새', '용신도', '웨다', '유프로시네', '은', '의', '의지', '이성', '인테르디카', '일반', '작', '전사', '전진기지', '전체', '전투', '정신', '제작', '지역', '지혜', '징표', '채집', '챈가룽', '초강력', '최근', '추천', '축복', '치와와', '침묵', '카이시넬', '칸', '크랄', '크로메데', '키샤르', '타르', '타하바타', '테그라크', '토벌대', '투명', '티아마트', '파견대', '파세르타', '파티', '팬더', '퍼플', '펭귄', '포메라니안', '포포쿠', '표현', '프리기다', '픽셀', '핑크', '하', '하메룬', '하수인', '해적', '헤라나스', '혁명단', '호랑이', '황금']\n"
     ]
    }
   ],
   "source": [
    "print(target_words)"
   ]
  },
  {
   "cell_type": "code",
   "execution_count": 6,
   "metadata": {},
   "outputs": [
    {
     "name": "stdout",
     "output_type": "stream",
     "text": [
      "Number of samples: 86644\n",
      "Number of unique input tokens: 175\n",
      "Number of unique output tokens: 127\n",
      "Max sequence length for inputs: 30\n",
      "Max sequence length for outputs: 22\n"
     ]
    }
   ],
   "source": [
    "print('Number of samples:', len(input_texts))\n",
    "print('Number of unique input tokens:', num_encoder_tokens)\n",
    "print('Number of unique output tokens:', num_decoder_tokens)\n",
    "print('Max sequence length for inputs:', max_encoder_seq_length)\n",
    "print('Max sequence length for outputs:', max_decoder_seq_length)"
   ]
  },
  {
   "cell_type": "code",
   "execution_count": 7,
   "metadata": {},
   "outputs": [],
   "source": [
    "input_token_index = dict(\n",
    "    [(word, i) for i, word in enumerate(input_words)])\n",
    "target_token_index = dict(\n",
    "    [(word, i) for i, word in enumerate(target_words)])\n",
    "\n",
    "encoder_input_data = np.zeros(\n",
    "    (len(input_texts), max_encoder_seq_length, num_encoder_tokens),\n",
    "    dtype='float32')\n",
    "decoder_input_data = np.zeros(\n",
    "    (len(input_texts), max_decoder_seq_length, num_decoder_tokens),\n",
    "    dtype='float32')\n",
    "decoder_target_data = np.zeros(\n",
    "    (len(input_texts), max_decoder_seq_length, num_decoder_tokens),\n",
    "    dtype='float32')"
   ]
  },
  {
   "cell_type": "code",
   "execution_count": 8,
   "metadata": {},
   "outputs": [],
   "source": [
    "## one hot vector 생성 - [0,1,...0,...0,0]\n",
    "for i, (input_text, target_text) in enumerate(zip(input_texts, target_texts)):\n",
    "    t = MeCab.Tagger('-d /usr/local/lib/mecab/dic/mecab-ko-dic')\n",
    "  \n",
    "    parse_intput_sentence = t.parse(input_text).split()\n",
    "    parse_target_sentence = t.parse(target_text).split()\n",
    "\n",
    "    for i_word in parse_intput_sentence:\n",
    "        if i_word.find(',') != -1 or i_word.find('EOS') != -1:\n",
    "            parse_intput_sentence.remove(i_word)\n",
    "            \n",
    "    for t_word in parse_target_sentence:\n",
    "        if t_word.find(',') != -1 or t_word.find('EOS') != -1:\n",
    "            parse_target_sentence.remove(t_word)\n",
    "    \n",
    "    parse_target_sentence.insert(0, \"\\t\")\n",
    "    for t, char in enumerate(parse_intput_sentence[:-1]):\n",
    "        encoder_input_data[i, t, input_token_index[char]] = 1.\n",
    "    for t, char in enumerate(parse_target_sentence[:-1]):\n",
    "        # decoder_target_data is ahead of decoder_input_data by one timestep\n",
    "        decoder_input_data[i, t, target_token_index[char]] = 1.\n",
    "        if t > 0:\n",
    "            # decoder_target_data will be ahead by one timestep\n",
    "            # and will not include the start character.\n",
    "            decoder_target_data[i, t - 1, target_token_index[char]] = 1.\n",
    "        \n",
    "    "
   ]
  },
  {
   "cell_type": "code",
   "execution_count": 9,
   "metadata": {},
   "outputs": [],
   "source": [
    "encoder_inputs = Input(shape=(None, num_encoder_tokens)) ##[문장길이, one-hot vector길이]\n",
    "encoder = LSTM(latent_dim, return_state=True) ## latent_dim == size\n",
    "encoder_outputs, state_h, state_c = encoder(encoder_inputs)\n",
    "# We discard `encoder_outputs` and only keep the states.\n",
    "encoder_states = [state_h, state_c]"
   ]
  },
  {
   "cell_type": "code",
   "execution_count": 10,
   "metadata": {},
   "outputs": [],
   "source": [
    "decoder_inputs = Input(shape=(None, num_decoder_tokens))\n",
    "# We set up our decoder to return full output sequences,\n",
    "# and to return internal states as well. We don't use the\n",
    "# return states in the training model, but we will use them in inference.\n",
    "decoder_lstm = LSTM(latent_dim, return_sequences=True, return_state=True) ## return_sequences -> output이 다음 state의 input으로 들어감\n",
    "decoder_outputs, _, _ = decoder_lstm(decoder_inputs,\n",
    "                                     initial_state=encoder_states)\n",
    "decoder_dense = Dense(num_decoder_tokens, activation='softmax')\n",
    "decoder_outputs = decoder_dense(decoder_outputs)"
   ]
  },
  {
   "cell_type": "code",
   "execution_count": 11,
   "metadata": {},
   "outputs": [
    {
     "name": "stdout",
     "output_type": "stream",
     "text": [
      "Train on 69315 samples, validate on 17329 samples\n",
      "Epoch 1/30\n",
      "69315/69315 [==============================] - 40s 576us/step - loss: 0.1700 - val_loss: 0.0806\n",
      "Epoch 2/30\n",
      "69315/69315 [==============================] - 39s 558us/step - loss: 0.0133 - val_loss: 3.2462e-04\n",
      "Epoch 3/30\n",
      "69315/69315 [==============================] - 39s 558us/step - loss: 0.0035 - val_loss: 2.9497e-05\n",
      "Epoch 4/30\n",
      "69315/69315 [==============================] - 39s 559us/step - loss: 0.0027 - val_loss: 4.9600e-05\n",
      "Epoch 5/30\n",
      "69315/69315 [==============================] - 39s 558us/step - loss: 0.0013 - val_loss: 2.3327e-05\n",
      "Epoch 6/30\n",
      "69315/69315 [==============================] - 39s 558us/step - loss: 6.9465e-04 - val_loss: 1.4642e-05\n",
      "Epoch 7/30\n",
      "69315/69315 [==============================] - 39s 558us/step - loss: 5.8243e-04 - val_loss: 1.2342e-05\n",
      "Epoch 8/30\n",
      "69315/69315 [==============================] - 39s 558us/step - loss: 6.3026e-04 - val_loss: 8.8219e-06\n",
      "Epoch 9/30\n",
      "69315/69315 [==============================] - 39s 558us/step - loss: 3.1423e-04 - val_loss: 4.4460e-06\n",
      "Epoch 10/30\n",
      "69315/69315 [==============================] - 39s 558us/step - loss: 3.9522e-04 - val_loss: 2.4522e-06\n",
      "Epoch 11/30\n",
      "69315/69315 [==============================] - 39s 558us/step - loss: 6.7513e-05 - val_loss: 1.4918e-06\n",
      "Epoch 12/30\n",
      "69315/69315 [==============================] - 39s 558us/step - loss: 4.5244e-04 - val_loss: 7.6798e-08\n",
      "Epoch 13/30\n",
      "69315/69315 [==============================] - 39s 559us/step - loss: 1.9080e-04 - val_loss: 4.8303e-08\n",
      "Epoch 14/30\n",
      "69315/69315 [==============================] - 39s 558us/step - loss: 4.2247e-08 - val_loss: 3.8993e-08\n",
      "Epoch 15/30\n",
      "69315/69315 [==============================] - 39s 558us/step - loss: 3.7140e-08 - val_loss: 3.6049e-08\n",
      "Epoch 16/30\n",
      "69315/69315 [==============================] - 39s 558us/step - loss: 3.5091e-08 - val_loss: 3.4863e-08\n",
      "Epoch 17/30\n",
      "69315/69315 [==============================] - 39s 558us/step - loss: 3.3993e-08 - val_loss: 3.3707e-08\n",
      "Epoch 18/30\n",
      "69315/69315 [==============================] - 39s 558us/step - loss: 3.3255e-08 - val_loss: 3.3103e-08\n",
      "Epoch 19/30\n",
      "69315/69315 [==============================] - 39s 558us/step - loss: 3.2749e-08 - val_loss: 3.2623e-08\n",
      "Epoch 20/30\n",
      "69315/69315 [==============================] - 39s 558us/step - loss: 3.2349e-08 - val_loss: 3.2270e-08\n",
      "Epoch 21/30\n",
      "69315/69315 [==============================] - 39s 558us/step - loss: 3.2064e-08 - val_loss: 3.2011e-08\n",
      "Epoch 22/30\n",
      "69315/69315 [==============================] - 39s 558us/step - loss: 3.1856e-08 - val_loss: 3.1832e-08\n",
      "Epoch 23/30\n",
      "69315/69315 [==============================] - 39s 558us/step - loss: 3.1708e-08 - val_loss: 3.1687e-08\n",
      "Epoch 24/30\n",
      "69315/69315 [==============================] - 39s 558us/step - loss: 3.1591e-08 - val_loss: 3.1582e-08\n",
      "Epoch 25/30\n",
      "69315/69315 [==============================] - 39s 558us/step - loss: 3.1493e-08 - val_loss: 3.1495e-08\n",
      "Epoch 26/30\n",
      "69315/69315 [==============================] - 39s 558us/step - loss: 3.1411e-08 - val_loss: 3.1415e-08\n",
      "Epoch 27/30\n",
      "69315/69315 [==============================] - 39s 558us/step - loss: 3.1349e-08 - val_loss: 3.1358e-08\n",
      "Epoch 28/30\n",
      "69315/69315 [==============================] - 39s 558us/step - loss: 3.1303e-08 - val_loss: 3.1318e-08\n",
      "Epoch 29/30\n",
      "69315/69315 [==============================] - 39s 558us/step - loss: 3.1268e-08 - val_loss: 3.1286e-08\n",
      "Epoch 30/30\n",
      "69315/69315 [==============================] - 39s 558us/step - loss: 3.1238e-08 - val_loss: 3.1255e-08\n"
     ]
    },
    {
     "name": "stderr",
     "output_type": "stream",
     "text": [
      "/home/dongjin/anaconda3/envs/my/lib/python3.5/site-packages/keras/engine/network.py:888: UserWarning: Layer lstm_2 was passed non-serializable keyword arguments: {'initial_state': [<tf.Tensor 'lstm_1/while/Exit_2:0' shape=(?, 256) dtype=float32>, <tf.Tensor 'lstm_1/while/Exit_3:0' shape=(?, 256) dtype=float32>]}. They will not be included in the serialized model (and thus will be missing at deserialization time).\n",
      "  '. They will not be included '\n"
     ]
    }
   ],
   "source": [
    "model = Model([encoder_inputs, decoder_inputs], decoder_outputs)\n",
    "# Run training\n",
    "model.compile(optimizer='rmsprop', loss='categorical_crossentropy')\n",
    "model.fit([encoder_input_data, decoder_input_data], decoder_target_data,\n",
    "          batch_size=batch_size,\n",
    "          epochs=epochs,\n",
    "          validation_split=0.2)\n",
    "# Save model\n",
    "model.save('model_save/aion_slu_lstm.h5')"
   ]
  },
  {
   "cell_type": "code",
   "execution_count": 16,
   "metadata": {},
   "outputs": [
    {
     "ename": "ImportError",
     "evalue": "Failed to import `pydot`. Please install `pydot`. For example with `pip install pydot`.",
     "output_type": "error",
     "traceback": [
      "\u001b[0;31m---------------------------------------------------------------------------\u001b[0m",
      "\u001b[0;31mImportError\u001b[0m                               Traceback (most recent call last)",
      "\u001b[0;32m<ipython-input-16-bb8e85d77630>\u001b[0m in \u001b[0;36m<module>\u001b[0;34m()\u001b[0m\n\u001b[0;32m----> 1\u001b[0;31m \u001b[0mplot_model\u001b[0m\u001b[0;34m(\u001b[0m\u001b[0mmodel\u001b[0m\u001b[0;34m,\u001b[0m \u001b[0mto_file\u001b[0m\u001b[0;34m=\u001b[0m\u001b[0;34m'model.png'\u001b[0m\u001b[0;34m,\u001b[0m \u001b[0mshow_shapes\u001b[0m\u001b[0;34m=\u001b[0m\u001b[0;32mTrue\u001b[0m\u001b[0;34m)\u001b[0m\u001b[0;34m\u001b[0m\u001b[0m\n\u001b[0m",
      "\u001b[0;32m~/anaconda3/envs/my/lib/python3.5/site-packages/keras/utils/vis_utils.py\u001b[0m in \u001b[0;36mplot_model\u001b[0;34m(model, to_file, show_shapes, show_layer_names, rankdir)\u001b[0m\n\u001b[1;32m    131\u001b[0m             \u001b[0;34m'LR'\u001b[0m \u001b[0mcreates\u001b[0m \u001b[0ma\u001b[0m \u001b[0mhorizontal\u001b[0m \u001b[0mplot\u001b[0m\u001b[0;34m.\u001b[0m\u001b[0;34m\u001b[0m\u001b[0m\n\u001b[1;32m    132\u001b[0m     \"\"\"\n\u001b[0;32m--> 133\u001b[0;31m     \u001b[0mdot\u001b[0m \u001b[0;34m=\u001b[0m \u001b[0mmodel_to_dot\u001b[0m\u001b[0;34m(\u001b[0m\u001b[0mmodel\u001b[0m\u001b[0;34m,\u001b[0m \u001b[0mshow_shapes\u001b[0m\u001b[0;34m,\u001b[0m \u001b[0mshow_layer_names\u001b[0m\u001b[0;34m,\u001b[0m \u001b[0mrankdir\u001b[0m\u001b[0;34m)\u001b[0m\u001b[0;34m\u001b[0m\u001b[0m\n\u001b[0m\u001b[1;32m    134\u001b[0m     \u001b[0m_\u001b[0m\u001b[0;34m,\u001b[0m \u001b[0mextension\u001b[0m \u001b[0;34m=\u001b[0m \u001b[0mos\u001b[0m\u001b[0;34m.\u001b[0m\u001b[0mpath\u001b[0m\u001b[0;34m.\u001b[0m\u001b[0msplitext\u001b[0m\u001b[0;34m(\u001b[0m\u001b[0mto_file\u001b[0m\u001b[0;34m)\u001b[0m\u001b[0;34m\u001b[0m\u001b[0m\n\u001b[1;32m    135\u001b[0m     \u001b[0;32mif\u001b[0m \u001b[0;32mnot\u001b[0m \u001b[0mextension\u001b[0m\u001b[0;34m:\u001b[0m\u001b[0;34m\u001b[0m\u001b[0m\n",
      "\u001b[0;32m~/anaconda3/envs/my/lib/python3.5/site-packages/keras/utils/vis_utils.py\u001b[0m in \u001b[0;36mmodel_to_dot\u001b[0;34m(model, show_shapes, show_layer_names, rankdir)\u001b[0m\n\u001b[1;32m     53\u001b[0m     \u001b[0;32mfrom\u001b[0m \u001b[0;34m.\u001b[0m\u001b[0;34m.\u001b[0m\u001b[0mmodels\u001b[0m \u001b[0;32mimport\u001b[0m \u001b[0mSequential\u001b[0m\u001b[0;34m\u001b[0m\u001b[0m\n\u001b[1;32m     54\u001b[0m \u001b[0;34m\u001b[0m\u001b[0m\n\u001b[0;32m---> 55\u001b[0;31m     \u001b[0m_check_pydot\u001b[0m\u001b[0;34m(\u001b[0m\u001b[0;34m)\u001b[0m\u001b[0;34m\u001b[0m\u001b[0m\n\u001b[0m\u001b[1;32m     56\u001b[0m     \u001b[0mdot\u001b[0m \u001b[0;34m=\u001b[0m \u001b[0mpydot\u001b[0m\u001b[0;34m.\u001b[0m\u001b[0mDot\u001b[0m\u001b[0;34m(\u001b[0m\u001b[0;34m)\u001b[0m\u001b[0;34m\u001b[0m\u001b[0m\n\u001b[1;32m     57\u001b[0m     \u001b[0mdot\u001b[0m\u001b[0;34m.\u001b[0m\u001b[0mset\u001b[0m\u001b[0;34m(\u001b[0m\u001b[0;34m'rankdir'\u001b[0m\u001b[0;34m,\u001b[0m \u001b[0mrankdir\u001b[0m\u001b[0;34m)\u001b[0m\u001b[0;34m\u001b[0m\u001b[0m\n",
      "\u001b[0;32m~/anaconda3/envs/my/lib/python3.5/site-packages/keras/utils/vis_utils.py\u001b[0m in \u001b[0;36m_check_pydot\u001b[0;34m()\u001b[0m\n\u001b[1;32m     18\u001b[0m     \u001b[0;32mif\u001b[0m \u001b[0mpydot\u001b[0m \u001b[0;32mis\u001b[0m \u001b[0;32mNone\u001b[0m\u001b[0;34m:\u001b[0m\u001b[0;34m\u001b[0m\u001b[0m\n\u001b[1;32m     19\u001b[0m         raise ImportError(\n\u001b[0;32m---> 20\u001b[0;31m             \u001b[0;34m'Failed to import `pydot`. '\u001b[0m\u001b[0;34m\u001b[0m\u001b[0m\n\u001b[0m\u001b[1;32m     21\u001b[0m             \u001b[0;34m'Please install `pydot`. '\u001b[0m\u001b[0;34m\u001b[0m\u001b[0m\n\u001b[1;32m     22\u001b[0m             'For example with `pip install pydot`.')\n",
      "\u001b[0;31mImportError\u001b[0m: Failed to import `pydot`. Please install `pydot`. For example with `pip install pydot`."
     ]
    }
   ],
   "source": [
    "plot_model(model, to_file='model.png', show_shapes=True)"
   ]
  },
  {
   "cell_type": "code",
   "execution_count": 12,
   "metadata": {},
   "outputs": [],
   "source": [
    "encoder_model = Model(encoder_inputs, encoder_states)\n",
    "\n",
    "decoder_state_input_h = Input(shape=(latent_dim,))\n",
    "decoder_state_input_c = Input(shape=(latent_dim,))\n",
    "decoder_states_inputs = [decoder_state_input_h, decoder_state_input_c]\n",
    "decoder_outputs, state_h, state_c = decoder_lstm(decoder_inputs, initial_state=decoder_states_inputs)\n",
    "decoder_states = [state_h, state_c]\n",
    "decoder_outputs = decoder_dense(decoder_outputs)\n",
    "decoder_model = Model([decoder_inputs] + decoder_states_inputs,\n",
    "                     [decoder_outputs] + decoder_states)\n",
    "\n",
    "reverse_input_char_index = dict((i, char) for char, i in input_token_index.items())\n",
    "reverse_target_char_index = dict((i, char) for char, i in target_token_index.items())"
   ]
  },
  {
   "cell_type": "code",
   "execution_count": 13,
   "metadata": {},
   "outputs": [],
   "source": [
    "def decode_sequence(input_seq):\n",
    "    # Encode the input as state vectors.\n",
    "    states_value = encoder_model.predict(input_seq)\n",
    "\n",
    "    # Generate empty target sequence of length 1.\n",
    "    target_seq = np.zeros((1, 1, num_decoder_tokens))\n",
    "    # Populate the first character of target sequence with the start character.\n",
    "    target_seq[0, 0, target_token_index['\\t']] = 1.\n",
    "\n",
    "    # Sampling loop for a batch of sequences\n",
    "    # (to simplify, here we assume a batch of size 1).\n",
    "    stop_condition = False\n",
    "    decoded_sentence = ''\n",
    "    while not stop_condition:\n",
    "        output_tokens, h, c = decoder_model.predict(\n",
    "            [target_seq] + states_value)\n",
    "\n",
    "        # Sample a token\n",
    "        sampled_token_index = np.argmax(output_tokens[0, -1, :])\n",
    "        sampled_char = reverse_target_char_index[sampled_token_index]\n",
    "        decoded_sentence += sampled_char\n",
    "\n",
    "        # Exit condition: either hit max length\n",
    "        # or find stop character.\n",
    "        if (sampled_char == \"\\n\" or\n",
    "           len(decoded_sentence) > max_decoder_seq_length):\n",
    "            stop_condition = True\n",
    "\n",
    "        # Update the target sequence (of length 1).\n",
    "        target_seq = np.zeros((1, 1, num_decoder_tokens))\n",
    "        target_seq[0, 0, sampled_token_index] = 1.\n",
    "\n",
    "        # Update states\n",
    "        states_value = [h, c]\n",
    "\n",
    "    return decoded_sentence"
   ]
  },
  {
   "cell_type": "code",
   "execution_count": 17,
   "metadata": {},
   "outputs": [
    {
     "name": "stdout",
     "output_type": "stream",
     "text": [
      "-\n",
      "Input sentence: 거점 빨리 이동 인테르디카 요새 시작 해\n",
      "\n",
      "Decoded sentence: teleport(인테르디카요새).)....\n",
      "-\n",
      "Input sentence: 어서 큐빅 수호로 시작 해\n",
      "\n",
      "Decoded sentence: cubic(수호).)............\n",
      "-\n",
      "Input sentence: 어서 스켈레톤으로 변신 하십시오\n",
      "\n",
      "Decoded sentence: transform(스켈레톤)........\n",
      "-\n",
      "Input sentence: 어서 거점 이동 인테르디카 결계탑 시작 하려무나\n",
      "\n",
      "Decoded sentence: teleport(인테르디카결계탑).)...\n",
      "-\n",
      "Input sentence: 동작 제작으로 빨리 합시다\n",
      "\n",
      "Decoded sentence: motion(제작).)...........\n",
      "-\n",
      "Input sentence: 작은 투명 지도 설정 시작 합시다\n",
      "\n",
      "Decoded sentence: map(작은투명).)............\n",
      "-\n",
      "Input sentence: 채팅창 일반으로 지금\n",
      "\n",
      "Decoded sentence: chat(일반).).............\n",
      "-\n",
      "Input sentence: 변신 상냥한 빨리 슈고로 해줘\n",
      "\n",
      "Decoded sentence: transform(상냥한슈고).).....\n",
      "-\n",
      "Input sentence: 세네모네아의 야영지에 거점 빨리 이동을 시작 해\n",
      "\n",
      "Decoded sentence: teleport(세네모네아의야영지).)..\n",
      "-\n",
      "Input sentence: 최근 어서 퀘스트를 시작 해주세요\n",
      "\n",
      "Decoded sentence: quest(최근)..............\n"
     ]
    }
   ],
   "source": [
    "for seq_index in range(10):\n",
    "    # Take one sequence (part of the training set)\n",
    "    # for trying out decoding.\n",
    "    input_seq = encoder_input_data[seq_index: seq_index + 1]\n",
    "    decoded_sentence = decode_sequence(input_seq)\n",
    "    print('-')\n",
    "    print('Input sentence:', input_texts[seq_index])\n",
    "    print('Decoded sentence:', decoded_sentence)"
   ]
  },
  {
   "cell_type": "code",
   "execution_count": 22,
   "metadata": {},
   "outputs": [
    {
     "name": "stdout",
     "output_type": "stream",
     "text": [
      "문자열을 입력하세요: 불량토끼 변신 빨리 하겠니\n",
      "Decoded sentence: transform(불량토끼).)......\n",
      "-----------------------------------\n",
      "문자열을 입력하세요: 헤라나스 지금 변신 해\n",
      "Decoded sentence: transform(헤라나스).)......\n",
      "-----------------------------------\n",
      "문자열을 입력하세요: 어서 스켈레톤으로 변신 하십시오\n",
      "Decoded sentence: transform(스켈레톤)........\n",
      "-----------------------------------\n",
      "문자열을 입력하세요: 작은 투명 지도 설정 시작 합시다\n",
      "Decoded sentence: map(작은투명).)............\n",
      "-----------------------------------\n",
      "문자열을 입력하세요: 채팅창 일반으로 지금\n",
      "Decoded sentence: chat(일반).).............\n",
      "-----------------------------------\n",
      "문자열을 입력하세요: 지금 헤라나스 변신 해\n",
      "Decoded sentence: transform(헤라나스).)......\n",
      "-----------------------------------\n",
      "문자열을 입력하세요: 변신 헤라나스\n",
      "Decoded sentence: transform(헤라나스).)......\n",
      "-----------------------------------\n",
      "문자열을 입력하세요: 작은 투명 지도 설정 시작\n",
      "Decoded sentence: map(작은투명).)............\n",
      "-----------------------------------\n",
      "문자열을 입력하세요: 작은투명지도설정시작\n"
     ]
    },
    {
     "ename": "KeyError",
     "evalue": "'투명지'",
     "output_type": "error",
     "traceback": [
      "\u001b[0;31m---------------------------------------------------------------------------\u001b[0m",
      "\u001b[0;31mKeyError\u001b[0m                                  Traceback (most recent call last)",
      "\u001b[0;32m<ipython-input-22-76931345440d>\u001b[0m in \u001b[0;36m<module>\u001b[0;34m()\u001b[0m\n\u001b[1;32m     23\u001b[0m \u001b[0;34m\u001b[0m\u001b[0m\n\u001b[1;32m     24\u001b[0m     \u001b[0;32mfor\u001b[0m \u001b[0mt\u001b[0m\u001b[0;34m,\u001b[0m \u001b[0mword\u001b[0m \u001b[0;32min\u001b[0m \u001b[0menumerate\u001b[0m\u001b[0;34m(\u001b[0m\u001b[0mparse_test_sentence\u001b[0m\u001b[0;34m[\u001b[0m\u001b[0;34m:\u001b[0m\u001b[0;34m-\u001b[0m\u001b[0;36m1\u001b[0m\u001b[0;34m]\u001b[0m\u001b[0;34m)\u001b[0m\u001b[0;34m:\u001b[0m\u001b[0;34m\u001b[0m\u001b[0m\n\u001b[0;32m---> 25\u001b[0;31m         \u001b[0mtest_encoder_input_data\u001b[0m\u001b[0;34m[\u001b[0m\u001b[0mi\u001b[0m\u001b[0;34m,\u001b[0m \u001b[0mt\u001b[0m\u001b[0;34m,\u001b[0m \u001b[0minput_token_index\u001b[0m\u001b[0;34m[\u001b[0m\u001b[0mword\u001b[0m\u001b[0;34m]\u001b[0m\u001b[0;34m]\u001b[0m \u001b[0;34m=\u001b[0m \u001b[0;36m1.\u001b[0m\u001b[0;34m\u001b[0m\u001b[0m\n\u001b[0m\u001b[1;32m     26\u001b[0m \u001b[0;34m\u001b[0m\u001b[0m\n\u001b[1;32m     27\u001b[0m \u001b[0;34m\u001b[0m\u001b[0m\n",
      "\u001b[0;31mKeyError\u001b[0m: '투명지'"
     ]
    }
   ],
   "source": [
    "test_input_texts = []\n",
    "\n",
    "with open(\"data/aion_test_v.txt\", \"r\", encoding='utf=8') as f:\n",
    "    reader =f.readlines()\n",
    "    for i in reader:\n",
    "        test_input_texts.append(i)\n",
    "\n",
    "test_encoder_input_data = np.zeros((len(test_input_texts), max_encoder_seq_length, num_encoder_tokens), dtype='float32')\n",
    " \n",
    "for i in range(10):\n",
    "    char_input_tests= set()\n",
    "    \n",
    "    s = input('문자열을 입력하세요: ')\n",
    "    s = s.strip()\n",
    "\n",
    "            \n",
    "    t = MeCab.Tagger('-d /usr/local/lib/mecab/dic/mecab-ko-dic')\n",
    "    parse_test_sentence = t.parse(s).split()\n",
    "    \n",
    "    for i_word in parse_test_sentence:\n",
    "        if i_word.find(',') != -1 or i_word.find('EOS') != -1:\n",
    "            parse_test_sentence.remove(i_word)\n",
    "            \n",
    "    for t, word in enumerate(parse_test_sentence[:-1]):\n",
    "        if word in input_words:\n",
    "            test_encoder_input_data[i, t, input_token_index[char]] = 1.\n",
    "        else:\n",
    "            word= \" \"\n",
    "            test_encoder_input_data[i, t, input_token_index[char]] = 1.\n",
    "\n",
    "    input_seq = test_encoder_input_data[i: i+1]\n",
    "    decoded_sentence = decode_sequence(input_seq)\n",
    "    \n",
    "    print('Decoded sentence:', decoded_sentence)\n",
    "    print('-----------------------------------')"
   ]
  },
  {
   "cell_type": "code",
   "execution_count": null,
   "metadata": {},
   "outputs": [],
   "source": []
  }
 ],
 "metadata": {
  "kernelspec": {
   "display_name": "Python [conda env:my]",
   "language": "python",
   "name": "conda-env-my-py"
  },
  "language_info": {
   "codemirror_mode": {
    "name": "ipython",
    "version": 3
   },
   "file_extension": ".py",
   "mimetype": "text/x-python",
   "name": "python",
   "nbconvert_exporter": "python",
   "pygments_lexer": "ipython3",
   "version": "3.5.5"
  }
 },
 "nbformat": 4,
 "nbformat_minor": 2
}
