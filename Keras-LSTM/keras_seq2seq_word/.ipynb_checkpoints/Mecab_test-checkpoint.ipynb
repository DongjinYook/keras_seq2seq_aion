{
 "cells": [
  {
   "cell_type": "markdown",
   "metadata": {},
   "source": [
    "## sequence-to-sequence word-level learning"
   ]
  },
  {
   "cell_type": "code",
   "execution_count": 38,
   "metadata": {},
   "outputs": [],
   "source": [
    "import MeCab\n",
    "import random"
   ]
  },
  {
   "cell_type": "code",
   "execution_count": 39,
   "metadata": {},
   "outputs": [],
   "source": [
    "arg_list1 = ['인테르디카 요새', '세네모네아의 야영지', '파세르타 마을', '인테르디카 결계탑', '키샤르 감시기지', \n",
    "             '챈가룽 야영지', '유프로시네 마을', '토벌대 전진기지']\n",
    "arg_list2 = ['작은 투명', '투명']\n",
    "arg_list3 = ['백곰', '스켈레톤', '핑크 호랑이', '해적', '레파르 혁명단', '그레이브나이트', '브라우니', '백호', \n",
    "             '호랑이', '옐로우 펭귄', '퍼플 펭귄', '레드 펭귄', '오렌지 펭귄', '블랙 펭귄', '그린 펭귄', '비룡', \n",
    "             '상냥한 슈고', '초강력 팬더', '승리의 비룡', '슈고', '슈퍼 슈고', '루나 파견대', '광대', '스켈레톤 전사', \n",
    "             '도베르만', '깡통', '치와와', '포메라니안', '라이칸', '실험체', '크랄', '악동토끼', '불량토끼', '황금 깡통', \n",
    "             '몽실이', '사막 여우', '티아마트 용신도', '타르하 크랄', '검은갈기 라이칸', '고양이', '포포쿠', '아그우드', \n",
    "             '티아마트 드라칸', '브리트라 드라칸', '에레슈키갈 드라칸', '픽셀', '빛의 수호단', '어둠의 수호단', '망각의 하수인', \n",
    "             '에레슈키갈의 사도', '브리트라의 사도', '티아마트의 사도', '하메룬', '라스베르그', '크로메데', '타하바타', \n",
    "             '테그라크', '헤라나스', '쉬타', '웨다', '프리기다', '그렌달', '카이시넬']\n",
    "arg_list4 = ['관심', '추천', '지역', '레벨', '최근']\n",
    "arg_list5 = ['전체', '일반', '전투', '파티']\n",
    "arg_list6 = ['기능', '징표', '채집', '감정 표현', '제작']\n",
    "arg_list7 = ['에레슈키갈', '생명', '정신', '축복', '광기', '지혜', '보호', '수호', '의지', '이성', '기민', '명예', '맹세', '침묵']\n",
    "\n",
    "target_word = ['거점 이동', '지도 설정', '변신', '퀘스트', '채팅', '동작', '큐빅']"
   ]
  },
  {
   "cell_type": "code",
   "execution_count": 40,
   "metadata": {},
   "outputs": [],
   "source": [
    "t = MeCab.Tagger()\n"
   ]
  },
  {
   "cell_type": "code",
   "execution_count": 73,
   "metadata": {},
   "outputs": [
    {
     "name": "stdout",
     "output_type": "stream",
     "text": [
      "['에레슈키갈', 'NNP,*,F,에레슈키갈*,*,*,*,*', '큐빅', 'NNP,인명,T,큐빅,*,*,*,*', '해', 'VV+EC,*,F,해,Inflect,VV,EC,하/VV/*+아/EC/*', '줘', 'VX+EF,*,F,줘,Inflect,VX,EF,주/VX/*+ㅓ/EF/*', '.', 'SF,*,*,*,*,*,*,*', 'EOS']\n",
      "1\n",
      "2\n",
      "3\n",
      "4\n",
      "5\n",
      "['에레슈키갈', '큐빅', '해', '줘', '.', 'EOS']\n"
     ]
    }
   ],
   "source": [
    "sentence = \"에레슈키갈 큐빅 해 줘.\"\n",
    "k= t.parse(sentence).split()\n",
    "print(k)\n",
    "i=0\n",
    "for word in k:\n",
    "    if word.find(',') != -1 or word.find('EOS') != -1:\n",
    "        i += 1\n",
    "        print(i)\n",
    "        k.remove(word)\n",
    "\n",
    "print(k)"
   ]
  },
  {
   "cell_type": "code",
   "execution_count": null,
   "metadata": {},
   "outputs": [],
   "source": []
  }
 ],
 "metadata": {
  "kernelspec": {
   "display_name": "Python [conda env:my_1.8]",
   "language": "python",
   "name": "conda-env-my_1.8-py"
  },
  "language_info": {
   "codemirror_mode": {
    "name": "ipython",
    "version": 3
   },
   "file_extension": ".py",
   "mimetype": "text/x-python",
   "name": "python",
   "nbconvert_exporter": "python",
   "pygments_lexer": "ipython3",
   "version": "3.5.5"
  }
 },
 "nbformat": 4,
 "nbformat_minor": 2
}
